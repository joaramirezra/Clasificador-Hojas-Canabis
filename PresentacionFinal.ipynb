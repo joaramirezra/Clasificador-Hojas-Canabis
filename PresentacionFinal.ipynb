{
  "nbformat": 4,
  "nbformat_minor": 0,
  "metadata": {
    "colab": {
      "name": "PresentacionFinal.ipynb",
      "provenance": [],
      "collapsed_sections": [],
      "include_colab_link": true
    },
    "kernelspec": {
      "name": "python3",
      "display_name": "Python 3"
    }
  },
  "cells": [
    {
      "cell_type": "markdown",
      "metadata": {
        "id": "view-in-github",
        "colab_type": "text"
      },
      "source": [
        "<a href=\"https://colab.research.google.com/github/joaramirezra/ClasificadorHojasCanabis/blob/master/PresentacionFinal.ipynb\" target=\"_parent\"><img src=\"https://colab.research.google.com/assets/colab-badge.svg\" alt=\"Open In Colab\"/></a>"
      ]
    },
    {
      "cell_type": "markdown",
      "metadata": {
        "id": "6kqcBRVyitSD",
        "colab_type": "text"
      },
      "source": [
        "# Clasificador hojas de canabis con anomalias \n",
        "### Febrero 2020\n",
        "**Autores:**\n",
        "- Johan Ramirez \n",
        "- Adriana Rivera"
      ]
    },
    {
      "cell_type": "code",
      "metadata": {
        "id": "nV9aPIhoiaPM",
        "colab_type": "code",
        "colab": {}
      },
      "source": [
        "# Importacion de librerias\n",
        "import cv2                                                \n",
        "import numpy as np\n",
        "import pandas as pd\n",
        "import torch\n",
        "from matplotlib import pyplot as plt\n",
        "from sklearn.decomposition import PCA\n",
        "from IPython.display import Image\n",
        "from sklearn.model_selection import train_test_split\n",
        "from sklearn.neighbors import KNeighborsClassifier\n",
        "from sklearn.preprocessing import StandardScaler\n",
        "from sklearn.model_selection import train_test_split\n",
        "from sklearn.neighbors import KNeighborsClassifier\n",
        "from sklearn.ensemble import RandomForestClassifier\n",
        "from sklearn.linear_model import LogisticRegression\n",
        "from sklearn.linear_model import Lasso\n",
        "from sklearn.ensemble import RandomForestRegressor# Instantiate model with 1000 decision trees"
      ],
      "execution_count": 0,
      "outputs": []
    },
    {
      "cell_type": "markdown",
      "metadata": {
        "id": "jn9EM9iACu52",
        "colab_type": "text"
      },
      "source": [
        "# Data set\n",
        "---"
      ]
    },
    {
      "cell_type": "code",
      "metadata": {
        "id": "KH2nr7JWB0b8",
        "colab_type": "code",
        "outputId": "fe10e563-6f42-4cbb-efb2-24728c9700f7",
        "colab": {
          "base_uri": "https://localhost:8080/",
          "height": 226
        }
      },
      "source": [
        "url = 'https://raw.githubusercontent.com/joaramirezra/ClasificadorHojasCanabis/master/dataFrame.csv'\n",
        "df = pd.read_csv(url,index_col=0)\n",
        "df.head()"
      ],
      "execution_count": 0,
      "outputs": [
        {
          "output_type": "execute_result",
          "data": {
            "text/html": [
              "<div>\n",
              "<style scoped>\n",
              "    .dataframe tbody tr th:only-of-type {\n",
              "        vertical-align: middle;\n",
              "    }\n",
              "\n",
              "    .dataframe tbody tr th {\n",
              "        vertical-align: top;\n",
              "    }\n",
              "\n",
              "    .dataframe thead th {\n",
              "        text-align: right;\n",
              "    }\n",
              "</style>\n",
              "<table border=\"1\" class=\"dataframe\">\n",
              "  <thead>\n",
              "    <tr style=\"text-align: right;\">\n",
              "      <th></th>\n",
              "      <th>MoB</th>\n",
              "      <th>MoG</th>\n",
              "      <th>MoR</th>\n",
              "      <th>MeB</th>\n",
              "      <th>MeG</th>\n",
              "      <th>MeR</th>\n",
              "      <th>sdtB</th>\n",
              "      <th>stdG</th>\n",
              "      <th>stdR</th>\n",
              "      <th>MoB2</th>\n",
              "      <th>MoG2</th>\n",
              "      <th>MoR2</th>\n",
              "      <th>MeB2</th>\n",
              "      <th>MeG2</th>\n",
              "      <th>MeR2</th>\n",
              "      <th>sdtB2</th>\n",
              "      <th>stdG2</th>\n",
              "      <th>stdR2</th>\n",
              "      <th>hu1</th>\n",
              "      <th>hu2</th>\n",
              "      <th>hu3</th>\n",
              "      <th>hu4</th>\n",
              "      <th>hu5</th>\n",
              "      <th>hu6</th>\n",
              "      <th>hu7</th>\n",
              "      <th>Ncont</th>\n",
              "      <th>MinArea</th>\n",
              "      <th>MaxArea</th>\n",
              "      <th>ContConv</th>\n",
              "      <th>MinPer</th>\n",
              "      <th>MaxPeri</th>\n",
              "      <th>type</th>\n",
              "      <th>var2</th>\n",
              "      <th>var3</th>\n",
              "      <th>var</th>\n",
              "    </tr>\n",
              "  </thead>\n",
              "  <tbody>\n",
              "    <tr>\n",
              "      <th>1</th>\n",
              "      <td>11.0</td>\n",
              "      <td>43.0</td>\n",
              "      <td>20.0</td>\n",
              "      <td>15.609935</td>\n",
              "      <td>52.551740</td>\n",
              "      <td>28.917639</td>\n",
              "      <td>10.831466</td>\n",
              "      <td>14.156018</td>\n",
              "      <td>14.660467</td>\n",
              "      <td>33.0</td>\n",
              "      <td>118.0</td>\n",
              "      <td>113.0</td>\n",
              "      <td>41.274806</td>\n",
              "      <td>119.203241</td>\n",
              "      <td>113.508758</td>\n",
              "      <td>13.545329</td>\n",
              "      <td>2.281940</td>\n",
              "      <td>4.057276</td>\n",
              "      <td>0.002036</td>\n",
              "      <td>3.896489e-07</td>\n",
              "      <td>1.975891e-09</td>\n",
              "      <td>4.603443e-10</td>\n",
              "      <td>-4.077933e-19</td>\n",
              "      <td>-2.314626e-13</td>\n",
              "      <td>1.626717e-19</td>\n",
              "      <td>10.0</td>\n",
              "      <td>1680.0</td>\n",
              "      <td>2.0</td>\n",
              "      <td>3.0</td>\n",
              "      <td>5.656854</td>\n",
              "      <td>25850.065742</td>\n",
              "      <td>1.0</td>\n",
              "      <td>NaN</td>\n",
              "      <td>NaN</td>\n",
              "      <td>NaN</td>\n",
              "    </tr>\n",
              "    <tr>\n",
              "      <th>2</th>\n",
              "      <td>15.0</td>\n",
              "      <td>71.0</td>\n",
              "      <td>34.0</td>\n",
              "      <td>20.313145</td>\n",
              "      <td>78.438995</td>\n",
              "      <td>42.608000</td>\n",
              "      <td>12.577629</td>\n",
              "      <td>15.735803</td>\n",
              "      <td>15.631453</td>\n",
              "      <td>53.0</td>\n",
              "      <td>112.0</td>\n",
              "      <td>102.0</td>\n",
              "      <td>61.086336</td>\n",
              "      <td>114.789580</td>\n",
              "      <td>104.991901</td>\n",
              "      <td>14.730575</td>\n",
              "      <td>2.744397</td>\n",
              "      <td>5.078848</td>\n",
              "      <td>0.001945</td>\n",
              "      <td>1.618989e-07</td>\n",
              "      <td>2.300864e-09</td>\n",
              "      <td>5.549067e-10</td>\n",
              "      <td>-6.699813e-20</td>\n",
              "      <td>-1.354644e-13</td>\n",
              "      <td>6.234216e-19</td>\n",
              "      <td>20.0</td>\n",
              "      <td>2416.0</td>\n",
              "      <td>0.5</td>\n",
              "      <td>4.0</td>\n",
              "      <td>5.656854</td>\n",
              "      <td>34499.553223</td>\n",
              "      <td>1.0</td>\n",
              "      <td>NaN</td>\n",
              "      <td>NaN</td>\n",
              "      <td>NaN</td>\n",
              "    </tr>\n",
              "    <tr>\n",
              "      <th>3</th>\n",
              "      <td>11.0</td>\n",
              "      <td>57.0</td>\n",
              "      <td>30.0</td>\n",
              "      <td>16.117764</td>\n",
              "      <td>64.699430</td>\n",
              "      <td>36.972668</td>\n",
              "      <td>11.728563</td>\n",
              "      <td>15.078706</td>\n",
              "      <td>14.882422</td>\n",
              "      <td>45.0</td>\n",
              "      <td>117.0</td>\n",
              "      <td>107.0</td>\n",
              "      <td>50.866312</td>\n",
              "      <td>118.067676</td>\n",
              "      <td>108.382202</td>\n",
              "      <td>14.151376</td>\n",
              "      <td>2.060985</td>\n",
              "      <td>5.023452</td>\n",
              "      <td>0.001890</td>\n",
              "      <td>6.381743e-09</td>\n",
              "      <td>8.479674e-11</td>\n",
              "      <td>2.963300e-10</td>\n",
              "      <td>4.674468e-20</td>\n",
              "      <td>1.526872e-14</td>\n",
              "      <td>-4.631061e-21</td>\n",
              "      <td>23.0</td>\n",
              "      <td>274292.5</td>\n",
              "      <td>12.0</td>\n",
              "      <td>4.0</td>\n",
              "      <td>39.071068</td>\n",
              "      <td>10050.748945</td>\n",
              "      <td>1.0</td>\n",
              "      <td>NaN</td>\n",
              "      <td>NaN</td>\n",
              "      <td>NaN</td>\n",
              "    </tr>\n",
              "    <tr>\n",
              "      <th>4</th>\n",
              "      <td>10.0</td>\n",
              "      <td>63.0</td>\n",
              "      <td>28.0</td>\n",
              "      <td>14.750944</td>\n",
              "      <td>70.362788</td>\n",
              "      <td>36.795557</td>\n",
              "      <td>11.723098</td>\n",
              "      <td>14.500892</td>\n",
              "      <td>14.698378</td>\n",
              "      <td>46.0</td>\n",
              "      <td>114.0</td>\n",
              "      <td>106.0</td>\n",
              "      <td>53.977381</td>\n",
              "      <td>115.734359</td>\n",
              "      <td>105.865197</td>\n",
              "      <td>13.826917</td>\n",
              "      <td>1.998463</td>\n",
              "      <td>4.404477</td>\n",
              "      <td>0.001506</td>\n",
              "      <td>1.328624e-07</td>\n",
              "      <td>5.506063e-10</td>\n",
              "      <td>7.395989e-11</td>\n",
              "      <td>-6.774615e-21</td>\n",
              "      <td>1.351797e-14</td>\n",
              "      <td>1.329890e-20</td>\n",
              "      <td>6.0</td>\n",
              "      <td>1632.5</td>\n",
              "      <td>2.0</td>\n",
              "      <td>0.0</td>\n",
              "      <td>232.769552</td>\n",
              "      <td>22558.653270</td>\n",
              "      <td>1.0</td>\n",
              "      <td>NaN</td>\n",
              "      <td>NaN</td>\n",
              "      <td>NaN</td>\n",
              "    </tr>\n",
              "    <tr>\n",
              "      <th>5</th>\n",
              "      <td>7.0</td>\n",
              "      <td>48.0</td>\n",
              "      <td>22.0</td>\n",
              "      <td>12.920143</td>\n",
              "      <td>52.927004</td>\n",
              "      <td>28.622405</td>\n",
              "      <td>10.598902</td>\n",
              "      <td>13.783048</td>\n",
              "      <td>13.041982</td>\n",
              "      <td>36.0</td>\n",
              "      <td>118.0</td>\n",
              "      <td>113.0</td>\n",
              "      <td>41.089956</td>\n",
              "      <td>119.117967</td>\n",
              "      <td>112.100539</td>\n",
              "      <td>12.874814</td>\n",
              "      <td>1.799715</td>\n",
              "      <td>3.689180</td>\n",
              "      <td>0.001690</td>\n",
              "      <td>5.297218e-11</td>\n",
              "      <td>4.785277e-10</td>\n",
              "      <td>7.139692e-11</td>\n",
              "      <td>1.124058e-20</td>\n",
              "      <td>5.192093e-16</td>\n",
              "      <td>-6.914346e-21</td>\n",
              "      <td>2.0</td>\n",
              "      <td>1564.5</td>\n",
              "      <td>1141.0</td>\n",
              "      <td>0.0</td>\n",
              "      <td>21270.147797</td>\n",
              "      <td>24815.062434</td>\n",
              "      <td>1.0</td>\n",
              "      <td>NaN</td>\n",
              "      <td>NaN</td>\n",
              "      <td>NaN</td>\n",
              "    </tr>\n",
              "  </tbody>\n",
              "</table>\n",
              "</div>"
            ],
            "text/plain": [
              "    MoB   MoG   MoR        MeB        MeG  ...       MaxPeri  type  var2  var3  var\n",
              "1  11.0  43.0  20.0  15.609935  52.551740  ...  25850.065742   1.0   NaN   NaN  NaN\n",
              "2  15.0  71.0  34.0  20.313145  78.438995  ...  34499.553223   1.0   NaN   NaN  NaN\n",
              "3  11.0  57.0  30.0  16.117764  64.699430  ...  10050.748945   1.0   NaN   NaN  NaN\n",
              "4  10.0  63.0  28.0  14.750944  70.362788  ...  22558.653270   1.0   NaN   NaN  NaN\n",
              "5   7.0  48.0  22.0  12.920143  52.927004  ...  24815.062434   1.0   NaN   NaN  NaN\n",
              "\n",
              "[5 rows x 35 columns]"
            ]
          },
          "metadata": {
            "tags": []
          },
          "execution_count": 3
        }
      ]
    },
    {
      "cell_type": "markdown",
      "metadata": {
        "id": "sxgz0j1-C13S",
        "colab_type": "text"
      },
      "source": [
        "# Limpieza de datos\n",
        "---\n"
      ]
    },
    {
      "cell_type": "code",
      "metadata": {
        "id": "X3K3VGOHCSVZ",
        "colab_type": "code",
        "outputId": "a4dfc78c-c512-4985-d147-aafd07acc442",
        "colab": {
          "base_uri": "https://localhost:8080/",
          "height": 859
        }
      },
      "source": [
        "subset = df[['MoB', 'MoG','MoR', 'MeB','MeG', 'MeR','sdtB',\n",
        "           'stdG','stdR','MoB2', 'MoG2','MoR2', 'MeB2','MeG2',\n",
        "           'MeR2','sdtB2', 'stdG2','stdR2','hu1','hu2','hu3',\n",
        "           'hu4','hu5','hu6','hu7','Ncont','MinArea','MaxArea',\n",
        "           'ContConv','MinPer','MaxPeri','type']]\n",
        "\n",
        "columns = subset.columns[1:]\n",
        "plantas  = torch.tensor(subset.values).float()\n",
        "data = plantas[:,:-1]\n",
        "target = plantas[:,-1]\n",
        "plantas.shape,data.shape,target.shape\n",
        "\n",
        "# Normalizacion \n",
        "media = torch.mean(plantas,dim=0)\n",
        "std_plantas = torch.std(plantas,dim=0)\n",
        "norm = (plantas-media)/std_plantas\n",
        "\n",
        "# Clases \n",
        "sanas = plantas[torch.eq(target,1)]\n",
        "Enfermas = plantas[torch.eq(target,2)]\n",
        "insectos = plantas[torch.eq(target,3)]\n",
        "agua = plantas[torch.eq(target,4)]\n",
        "\n",
        "# Media sanas \n",
        "mediaSanas = torch.mean(sanas,dim=0)\n",
        "mediaEnfermas = torch.mean(Enfermas,dim=0)\n",
        "mediaInsectos = torch.mean(insectos,dim=0)\n",
        "mediaAgua = torch.mean(agua,dim=0)\n",
        "\n",
        "for i,args in enumerate(zip(columns,mediaSanas,mediaEnfermas,mediaInsectos,mediaAgua)):\n",
        "   print('{:13} {:6.2f} {:6.2f} {:6.2f} {:6.2f}'.format(*args))\n",
        "\n",
        "# \n",
        "subset.describe()"
      ],
      "execution_count": 0,
      "outputs": [
        {
          "output_type": "stream",
          "text": [
            "MoG            12.60  10.12  11.10  18.32\n",
            "MoR            60.00  65.90 105.29 122.84\n",
            "MeB            30.57  36.61  86.84 121.68\n",
            "MeG            17.01  14.45  15.85  24.70\n",
            "MeR            64.91  72.02 108.51 120.27\n",
            "sdtB           36.80  43.73  94.53 119.08\n",
            "stdG           11.14  10.75  10.47  10.52\n",
            "stdR           13.49  15.16  18.91  18.49\n",
            "MoB2           13.39  15.23  23.08  18.86\n",
            "MoG2           45.38  51.14  88.94 108.58\n",
            "MoR2          116.57 116.86 126.18 128.63\n",
            "MeB2          108.23 104.29  84.69  70.21\n",
            "MeG2           51.04  56.99  93.77 109.03\n",
            "MeR2          117.84 118.53 128.55 128.45\n",
            "sdtB2         108.80 103.99  84.03  73.67\n",
            "stdG2          12.79  14.16  18.40  17.13\n",
            "stdR2           2.13   2.61   4.56   2.46\n",
            "hu1             3.86   5.05   8.54   7.48\n",
            "hu2             0.00   0.00   0.01   0.42\n",
            "hu3             0.00   0.00   0.00   3.30\n",
            "hu4             0.00   0.00   0.00   2.59\n",
            "hu5             0.00   0.00   0.00   2.59\n",
            "hu6            -0.00   0.00   0.00 127.14\n",
            "hu7            -0.00  -0.00   0.00  20.48\n",
            "Ncont           0.00  -0.00   0.00  -0.00\n",
            "MinArea        22.17  20.04  79.35  21.63\n",
            "MaxArea       119456.50 107608.02 195055.95 15893.18\n",
            "ContConv      41663.94  84.02   4.52 534.95\n",
            "MinPer          2.45   2.33  13.51   3.37\n",
            "MaxPeri       1281.17 101.31   5.25  77.04\n",
            "type          19115.49 24407.69 11953.15 1401.38\n"
          ],
          "name": "stdout"
        },
        {
          "output_type": "execute_result",
          "data": {
            "text/html": [
              "<div>\n",
              "<style scoped>\n",
              "    .dataframe tbody tr th:only-of-type {\n",
              "        vertical-align: middle;\n",
              "    }\n",
              "\n",
              "    .dataframe tbody tr th {\n",
              "        vertical-align: top;\n",
              "    }\n",
              "\n",
              "    .dataframe thead th {\n",
              "        text-align: right;\n",
              "    }\n",
              "</style>\n",
              "<table border=\"1\" class=\"dataframe\">\n",
              "  <thead>\n",
              "    <tr style=\"text-align: right;\">\n",
              "      <th></th>\n",
              "      <th>MoB</th>\n",
              "      <th>MoG</th>\n",
              "      <th>MoR</th>\n",
              "      <th>MeB</th>\n",
              "      <th>MeG</th>\n",
              "      <th>MeR</th>\n",
              "      <th>sdtB</th>\n",
              "      <th>stdG</th>\n",
              "      <th>stdR</th>\n",
              "      <th>MoB2</th>\n",
              "      <th>MoG2</th>\n",
              "      <th>MoR2</th>\n",
              "      <th>MeB2</th>\n",
              "      <th>MeG2</th>\n",
              "      <th>MeR2</th>\n",
              "      <th>sdtB2</th>\n",
              "      <th>stdG2</th>\n",
              "      <th>stdR2</th>\n",
              "      <th>hu1</th>\n",
              "      <th>hu2</th>\n",
              "      <th>hu3</th>\n",
              "      <th>hu4</th>\n",
              "      <th>hu5</th>\n",
              "      <th>hu6</th>\n",
              "      <th>hu7</th>\n",
              "      <th>Ncont</th>\n",
              "      <th>MinArea</th>\n",
              "      <th>MaxArea</th>\n",
              "      <th>ContConv</th>\n",
              "      <th>MinPer</th>\n",
              "      <th>MaxPeri</th>\n",
              "      <th>type</th>\n",
              "    </tr>\n",
              "  </thead>\n",
              "  <tbody>\n",
              "    <tr>\n",
              "      <th>count</th>\n",
              "      <td>165.000000</td>\n",
              "      <td>165.000000</td>\n",
              "      <td>165.000000</td>\n",
              "      <td>165.000000</td>\n",
              "      <td>165.000000</td>\n",
              "      <td>165.000000</td>\n",
              "      <td>165.000000</td>\n",
              "      <td>165.000000</td>\n",
              "      <td>165.000000</td>\n",
              "      <td>165.000000</td>\n",
              "      <td>165.000000</td>\n",
              "      <td>165.000000</td>\n",
              "      <td>165.000000</td>\n",
              "      <td>165.000000</td>\n",
              "      <td>165.000000</td>\n",
              "      <td>165.000000</td>\n",
              "      <td>165.000000</td>\n",
              "      <td>165.000000</td>\n",
              "      <td>165.000000</td>\n",
              "      <td>1.650000e+02</td>\n",
              "      <td>1.650000e+02</td>\n",
              "      <td>1.650000e+02</td>\n",
              "      <td>1.650000e+02</td>\n",
              "      <td>1.650000e+02</td>\n",
              "      <td>1.650000e+02</td>\n",
              "      <td>165.000000</td>\n",
              "      <td>1.650000e+02</td>\n",
              "      <td>1.650000e+02</td>\n",
              "      <td>165.000000</td>\n",
              "      <td>165.000000</td>\n",
              "      <td>165.000000</td>\n",
              "      <td>165.000000</td>\n",
              "    </tr>\n",
              "    <tr>\n",
              "      <th>mean</th>\n",
              "      <td>12.030303</td>\n",
              "      <td>82.412121</td>\n",
              "      <td>59.539394</td>\n",
              "      <td>16.760717</td>\n",
              "      <td>86.348822</td>\n",
              "      <td>65.465013</td>\n",
              "      <td>10.765120</td>\n",
              "      <td>16.173956</td>\n",
              "      <td>17.448927</td>\n",
              "      <td>67.278788</td>\n",
              "      <td>120.896970</td>\n",
              "      <td>95.684848</td>\n",
              "      <td>72.169971</td>\n",
              "      <td>122.441475</td>\n",
              "      <td>95.954557</td>\n",
              "      <td>15.369364</td>\n",
              "      <td>3.032220</td>\n",
              "      <td>6.021145</td>\n",
              "      <td>0.052007</td>\n",
              "      <td>3.800585e-01</td>\n",
              "      <td>2.982120e-01</td>\n",
              "      <td>2.980006e-01</td>\n",
              "      <td>1.464046e+01</td>\n",
              "      <td>2.358007e+00</td>\n",
              "      <td>-2.579923e-05</td>\n",
              "      <td>38.327273</td>\n",
              "      <td>1.258483e+05</td>\n",
              "      <td>1.195581e+04</td>\n",
              "      <td>5.800000</td>\n",
              "      <td>422.104690</td>\n",
              "      <td>16421.099890</td>\n",
              "      <td>2.230303</td>\n",
              "    </tr>\n",
              "    <tr>\n",
              "      <th>std</th>\n",
              "      <td>6.824833</td>\n",
              "      <td>32.334944</td>\n",
              "      <td>40.609457</td>\n",
              "      <td>6.740984</td>\n",
              "      <td>28.981889</td>\n",
              "      <td>37.635030</td>\n",
              "      <td>1.889528</td>\n",
              "      <td>4.670652</td>\n",
              "      <td>5.765203</td>\n",
              "      <td>30.984573</td>\n",
              "      <td>12.746891</td>\n",
              "      <td>17.231142</td>\n",
              "      <td>28.319941</td>\n",
              "      <td>12.308482</td>\n",
              "      <td>16.401741</td>\n",
              "      <td>4.250612</td>\n",
              "      <td>1.414993</td>\n",
              "      <td>2.725225</td>\n",
              "      <td>0.616324</td>\n",
              "      <td>4.879485e+00</td>\n",
              "      <td>3.827665e+00</td>\n",
              "      <td>3.825808e+00</td>\n",
              "      <td>1.880601e+02</td>\n",
              "      <td>3.028886e+01</td>\n",
              "      <td>3.495939e-04</td>\n",
              "      <td>51.825712</td>\n",
              "      <td>3.268474e+05</td>\n",
              "      <td>1.520194e+05</td>\n",
              "      <td>9.966529</td>\n",
              "      <td>2404.655302</td>\n",
              "      <td>11009.511185</td>\n",
              "      <td>1.009855</td>\n",
              "    </tr>\n",
              "    <tr>\n",
              "      <th>min</th>\n",
              "      <td>0.000000</td>\n",
              "      <td>0.000000</td>\n",
              "      <td>0.000000</td>\n",
              "      <td>0.000000</td>\n",
              "      <td>0.000000</td>\n",
              "      <td>0.000000</td>\n",
              "      <td>0.000000</td>\n",
              "      <td>0.000000</td>\n",
              "      <td>0.000000</td>\n",
              "      <td>0.000000</td>\n",
              "      <td>0.000000</td>\n",
              "      <td>0.000000</td>\n",
              "      <td>0.000000</td>\n",
              "      <td>0.000000</td>\n",
              "      <td>0.000000</td>\n",
              "      <td>0.000000</td>\n",
              "      <td>0.000000</td>\n",
              "      <td>0.000000</td>\n",
              "      <td>0.000000</td>\n",
              "      <td>0.000000e+00</td>\n",
              "      <td>0.000000e+00</td>\n",
              "      <td>0.000000e+00</td>\n",
              "      <td>-2.588868e-12</td>\n",
              "      <td>-6.359238e-10</td>\n",
              "      <td>-4.483511e-03</td>\n",
              "      <td>0.000000</td>\n",
              "      <td>0.000000e+00</td>\n",
              "      <td>0.000000e+00</td>\n",
              "      <td>0.000000</td>\n",
              "      <td>0.000000</td>\n",
              "      <td>0.000000</td>\n",
              "      <td>0.000000</td>\n",
              "    </tr>\n",
              "    <tr>\n",
              "      <th>25%</th>\n",
              "      <td>8.000000</td>\n",
              "      <td>58.000000</td>\n",
              "      <td>31.000000</td>\n",
              "      <td>12.188511</td>\n",
              "      <td>64.699430</td>\n",
              "      <td>36.795557</td>\n",
              "      <td>9.924523</td>\n",
              "      <td>13.325458</td>\n",
              "      <td>13.439349</td>\n",
              "      <td>45.000000</td>\n",
              "      <td>117.000000</td>\n",
              "      <td>80.000000</td>\n",
              "      <td>50.424601</td>\n",
              "      <td>118.002361</td>\n",
              "      <td>82.641667</td>\n",
              "      <td>12.865814</td>\n",
              "      <td>2.135678</td>\n",
              "      <td>4.027784</td>\n",
              "      <td>0.001467</td>\n",
              "      <td>4.300455e-08</td>\n",
              "      <td>1.603907e-10</td>\n",
              "      <td>6.468463e-11</td>\n",
              "      <td>-1.188812e-20</td>\n",
              "      <td>-1.875287e-14</td>\n",
              "      <td>-1.991240e-20</td>\n",
              "      <td>10.000000</td>\n",
              "      <td>1.602500e+03</td>\n",
              "      <td>5.000000e-01</td>\n",
              "      <td>0.000000</td>\n",
              "      <td>2.000000</td>\n",
              "      <td>9417.126434</td>\n",
              "      <td>1.000000</td>\n",
              "    </tr>\n",
              "    <tr>\n",
              "      <th>50%</th>\n",
              "      <td>11.000000</td>\n",
              "      <td>72.000000</td>\n",
              "      <td>40.000000</td>\n",
              "      <td>15.837177</td>\n",
              "      <td>79.049198</td>\n",
              "      <td>49.333084</td>\n",
              "      <td>10.599354</td>\n",
              "      <td>15.078706</td>\n",
              "      <td>15.568320</td>\n",
              "      <td>56.000000</td>\n",
              "      <td>118.000000</td>\n",
              "      <td>102.000000</td>\n",
              "      <td>63.329661</td>\n",
              "      <td>119.407994</td>\n",
              "      <td>101.539740</td>\n",
              "      <td>14.471580</td>\n",
              "      <td>2.556336</td>\n",
              "      <td>5.079779</td>\n",
              "      <td>0.001666</td>\n",
              "      <td>1.259458e-07</td>\n",
              "      <td>4.809787e-10</td>\n",
              "      <td>1.458917e-10</td>\n",
              "      <td>5.266053e-23</td>\n",
              "      <td>-1.228866e-15</td>\n",
              "      <td>0.000000e+00</td>\n",
              "      <td>21.000000</td>\n",
              "      <td>3.143000e+03</td>\n",
              "      <td>1.000000e+00</td>\n",
              "      <td>2.000000</td>\n",
              "      <td>5.656854</td>\n",
              "      <td>15133.169423</td>\n",
              "      <td>2.000000</td>\n",
              "    </tr>\n",
              "    <tr>\n",
              "      <th>75%</th>\n",
              "      <td>15.000000</td>\n",
              "      <td>110.000000</td>\n",
              "      <td>92.000000</td>\n",
              "      <td>20.239477</td>\n",
              "      <td>109.684440</td>\n",
              "      <td>95.300364</td>\n",
              "      <td>11.739598</td>\n",
              "      <td>18.153356</td>\n",
              "      <td>21.417837</td>\n",
              "      <td>93.000000</td>\n",
              "      <td>123.000000</td>\n",
              "      <td>108.000000</td>\n",
              "      <td>93.053713</td>\n",
              "      <td>127.280944</td>\n",
              "      <td>108.382202</td>\n",
              "      <td>17.228101</td>\n",
              "      <td>3.394949</td>\n",
              "      <td>7.897794</td>\n",
              "      <td>0.001948</td>\n",
              "      <td>2.821938e-07</td>\n",
              "      <td>1.567987e-09</td>\n",
              "      <td>3.354739e-10</td>\n",
              "      <td>2.610459e-20</td>\n",
              "      <td>2.157137e-14</td>\n",
              "      <td>1.591389e-20</td>\n",
              "      <td>42.000000</td>\n",
              "      <td>2.464000e+04</td>\n",
              "      <td>5.500000e+00</td>\n",
              "      <td>6.000000</td>\n",
              "      <td>37.071068</td>\n",
              "      <td>23161.349133</td>\n",
              "      <td>3.000000</td>\n",
              "    </tr>\n",
              "    <tr>\n",
              "      <th>max</th>\n",
              "      <td>43.000000</td>\n",
              "      <td>174.000000</td>\n",
              "      <td>153.000000</td>\n",
              "      <td>42.708322</td>\n",
              "      <td>151.423060</td>\n",
              "      <td>154.927335</td>\n",
              "      <td>16.989564</td>\n",
              "      <td>40.629160</td>\n",
              "      <td>36.836544</td>\n",
              "      <td>139.000000</td>\n",
              "      <td>146.000000</td>\n",
              "      <td>123.000000</td>\n",
              "      <td>138.371274</td>\n",
              "      <td>143.972355</td>\n",
              "      <td>116.557379</td>\n",
              "      <td>36.055206</td>\n",
              "      <td>7.222220</td>\n",
              "      <td>16.184905</td>\n",
              "      <td>7.918111</td>\n",
              "      <td>6.267830e+01</td>\n",
              "      <td>4.916746e+01</td>\n",
              "      <td>4.914355e+01</td>\n",
              "      <td>2.415676e+03</td>\n",
              "      <td>3.890675e+02</td>\n",
              "      <td>2.266289e-04</td>\n",
              "      <td>334.000000</td>\n",
              "      <td>2.214424e+06</td>\n",
              "      <td>1.952830e+06</td>\n",
              "      <td>66.000000</td>\n",
              "      <td>21270.147797</td>\n",
              "      <td>55621.354942</td>\n",
              "      <td>4.000000</td>\n",
              "    </tr>\n",
              "  </tbody>\n",
              "</table>\n",
              "</div>"
            ],
            "text/plain": [
              "              MoB         MoG  ...       MaxPeri        type\n",
              "count  165.000000  165.000000  ...    165.000000  165.000000\n",
              "mean    12.030303   82.412121  ...  16421.099890    2.230303\n",
              "std      6.824833   32.334944  ...  11009.511185    1.009855\n",
              "min      0.000000    0.000000  ...      0.000000    0.000000\n",
              "25%      8.000000   58.000000  ...   9417.126434    1.000000\n",
              "50%     11.000000   72.000000  ...  15133.169423    2.000000\n",
              "75%     15.000000  110.000000  ...  23161.349133    3.000000\n",
              "max     43.000000  174.000000  ...  55621.354942    4.000000\n",
              "\n",
              "[8 rows x 32 columns]"
            ]
          },
          "metadata": {
            "tags": []
          },
          "execution_count": 4
        }
      ]
    },
    {
      "cell_type": "markdown",
      "metadata": {
        "id": "C5LDrPEMDtTH",
        "colab_type": "text"
      },
      "source": [
        "# Componentes Principales "
      ]
    },
    {
      "cell_type": "code",
      "metadata": {
        "colab_type": "code",
        "outputId": "a7eb7518-5c0c-48f2-9101-6d56435cb6cc",
        "id": "4gTFF110NaAF",
        "colab": {
          "base_uri": "https://localhost:8080/",
          "height": 573
        }
      },
      "source": [
        "# Reduccion de dimension\n",
        "scaler = StandardScaler()\n",
        "X = scaler.fit_transform(plantas)\n",
        "NumberComponents = 30 # Numero de componenete\n",
        "pca = PCA(n_components=NumberComponents)\n",
        "principal_components = pca.fit_transform(X)\n",
        "new_data = pd.DataFrame(data = principal_components)\n",
        "\n",
        "## ME falta agregar graficador \n",
        "# Representamos en un diagrama de barras la varianza explicada por cada autovalor, y la acumulada\n",
        "\n",
        "plt.plot(np.cumsum(pca.explained_variance_ratio_))\n",
        "plt.xlabel('number of components')\n",
        "plt.ylabel('cumulative explained variance');\n",
        "plt.grid(color='b', linestyle='-', linewidth=0.5)\n",
        "plt.title('varianza con 30 componentes', fontdict=None, loc='center')\n",
        "plt.show()\n",
        "\n",
        "scaler = StandardScaler()\n",
        "X = scaler.fit_transform(plantas)\n",
        "NumberComponents = 8 # Numero de componenete\n",
        "pca = PCA(n_components=NumberComponents)\n",
        "principal_components = pca.fit_transform(X)\n",
        "new_data = pd.DataFrame(data = principal_components)\n",
        "new_data.insert(8, 'type',target, True)\n",
        "new_data.drop(29)\n",
        "\n",
        "# Evaluacion cambio varianza con 12 \n",
        "\n",
        "plt.plot(np.cumsum(pca.explained_variance_ratio_))\n",
        "plt.xlabel('number of components')\n",
        "plt.ylabel('cumulative explained variance');\n",
        "plt.grid(color='b', linestyle='-', linewidth=0.5)\n",
        "plt.title('varianza con 8 componentes', fontdict=None, loc='center')\n",
        "plt.show()"
      ],
      "execution_count": 0,
      "outputs": [
        {
          "output_type": "display_data",
          "data": {
            "image/png": "[encoded data removed]",
            "text/plain": [
              "<Figure size 432x288 with 1 Axes>"
            ]
          },
          "metadata": {
            "tags": []
          }
        },
        {
          "output_type": "display_data",
          "data": {
            "image/png": "[encoded data removed]",
            "text/plain": [
              "<Figure size 432x288 with 1 Axes>"
            ]
          },
          "metadata": {
            "tags": []
          }
        }
      ]
    },
    {
      "cell_type": "markdown",
      "metadata": {
        "id": "p9XYQxZSDO2_",
        "colab_type": "text"
      },
      "source": [
        "# Preparacion Data ( entrenamiento y testeo )\n",
        "---"
      ]
    },
    {
      "cell_type": "code",
      "metadata": {
        "id": "kIfOF0S4DOKG",
        "colab_type": "code",
        "outputId": "87beb3e1-01d5-4134-d61f-c013a9567758",
        "colab": {
          "base_uri": "https://localhost:8080/",
          "height": 52
        }
      },
      "source": [
        "# Separo el 70 de los datos para entrenar y para Testear  \n",
        "np.random.seed(23)\n",
        "X_train, X_test, y_train, y_test =train_test_split(new_data, target, test_size = 0.30, random_state = 28)\n",
        "print('el numero del set de entrenamiento es =',len(X_train) )\n",
        "print('el numero del set de testeo es =',len(X_test) )"
      ],
      "execution_count": 0,
      "outputs": [
        {
          "output_type": "stream",
          "text": [
            "el numero del set de entrenamiento es = 115\n",
            "el numero del set de testeo es = 50\n"
          ],
          "name": "stdout"
        }
      ]
    },
    {
      "cell_type": "markdown",
      "metadata": {
        "id": "uQJU0rmRD1UA",
        "colab_type": "text"
      },
      "source": [
        "# Evaluacion de clasificadores\n",
        "---\n",
        "### Random forest classifier"
      ]
    },
    {
      "cell_type": "code",
      "metadata": {
        "id": "RaEvh9WnzF8E",
        "colab_type": "code",
        "colab": {}
      },
      "source": [
        "def imprimirResultados(clf,X_test,y_test,X_train,y_train):\n",
        "  algoritmo = clf\n",
        "  algoritmo.fit(X_train,y_train)\n",
        "  algoritmo.predict(X_test)\n",
        "  preds = algoritmo.predict(X_test)\n",
        "\n",
        "  print('Score modelo : {}'.format(algoritmo.score(X_train,y_train)))\n",
        "  plt.figure(1)\n",
        "  plt.subplot(211)\n",
        "  plt.hist([preds,y_test])\n",
        "  plt.grid(color='b', linestyle='-', linewidth=0.5)\n",
        "  plt.show()\n"
      ],
      "execution_count": 0,
      "outputs": []
    },
    {
      "cell_type": "code",
      "metadata": {
        "id": "eHGIMzZuJf8W",
        "colab_type": "code",
        "outputId": "941722e1-ed9a-4419-961d-e4d4843c6efb",
        "colab": {
          "base_uri": "https://localhost:8080/",
          "height": 354
        }
      },
      "source": [
        "clf = RandomForestClassifier(n_jobs=1000, random_state=42)\n",
        "imprimirResultados(clf,X_test,y_test,X_train,y_train)\n",
        "preds = clf.predict(X_test)\n",
        "pd.crosstab(y_test, preds, rownames=['real'], colnames=[' predicha']) "
      ],
      "execution_count": 0,
      "outputs": [
        {
          "output_type": "stream",
          "text": [
            "Score modelo : 1.0\n"
          ],
          "name": "stdout"
        },
        {
          "output_type": "display_data",
          "data": {
            "image/png": "[encoded data removed]",
            "text/plain": [
              "<Figure size 432x288 with 1 Axes>"
            ]
          },
          "metadata": {
            "tags": []
          }
        },
        {
          "output_type": "execute_result",
          "data": {
            "text/html": [
              "<div>\n",
              "<style scoped>\n",
              "    .dataframe tbody tr th:only-of-type {\n",
              "        vertical-align: middle;\n",
              "    }\n",
              "\n",
              "    .dataframe tbody tr th {\n",
              "        vertical-align: top;\n",
              "    }\n",
              "\n",
              "    .dataframe thead th {\n",
              "        text-align: right;\n",
              "    }\n",
              "</style>\n",
              "<table border=\"1\" class=\"dataframe\">\n",
              "  <thead>\n",
              "    <tr style=\"text-align: right;\">\n",
              "      <th>predicha</th>\n",
              "      <th>1.0</th>\n",
              "      <th>2.0</th>\n",
              "      <th>3.0</th>\n",
              "      <th>4.0</th>\n",
              "    </tr>\n",
              "    <tr>\n",
              "      <th>real</th>\n",
              "      <th></th>\n",
              "      <th></th>\n",
              "      <th></th>\n",
              "      <th></th>\n",
              "    </tr>\n",
              "  </thead>\n",
              "  <tbody>\n",
              "    <tr>\n",
              "      <th>1.0</th>\n",
              "      <td>8</td>\n",
              "      <td>0</td>\n",
              "      <td>0</td>\n",
              "      <td>0</td>\n",
              "    </tr>\n",
              "    <tr>\n",
              "      <th>2.0</th>\n",
              "      <td>0</td>\n",
              "      <td>21</td>\n",
              "      <td>0</td>\n",
              "      <td>0</td>\n",
              "    </tr>\n",
              "    <tr>\n",
              "      <th>3.0</th>\n",
              "      <td>0</td>\n",
              "      <td>1</td>\n",
              "      <td>15</td>\n",
              "      <td>0</td>\n",
              "    </tr>\n",
              "    <tr>\n",
              "      <th>4.0</th>\n",
              "      <td>0</td>\n",
              "      <td>0</td>\n",
              "      <td>1</td>\n",
              "      <td>4</td>\n",
              "    </tr>\n",
              "  </tbody>\n",
              "</table>\n",
              "</div>"
            ],
            "text/plain": [
              " predicha  1.0  2.0  3.0  4.0\n",
              "real                         \n",
              "1.0          8    0    0    0\n",
              "2.0          0   21    0    0\n",
              "3.0          0    1   15    0\n",
              "4.0          0    0    1    4"
            ]
          },
          "metadata": {
            "tags": []
          },
          "execution_count": 8
        }
      ]
    },
    {
      "cell_type": "code",
      "metadata": {
        "id": "l7rr4w66l7Tj",
        "colab_type": "code",
        "outputId": "a1c9611c-54d8-42b8-9f39-b130d322068c",
        "colab": {
          "base_uri": "https://localhost:8080/",
          "height": 354
        }
      },
      "source": [
        "clf = RandomForestRegressor(n_estimators = 1000, random_state = 42)\n",
        "imprimirResultados(clf,X_test,y_test,X_train,y_train)\n",
        "preds = clf.predict(X_test)\n",
        "pd.crosstab(y_test, preds, rownames=['real'], colnames=[' predicha'])\n"
      ],
      "execution_count": 0,
      "outputs": [
        {
          "output_type": "stream",
          "text": [
            "Score modelo : 0.9987700680190621\n"
          ],
          "name": "stdout"
        },
        {
          "output_type": "display_data",
          "data": {
            "image/png": "[encoded data removed]",
            "text/plain": [
              "<Figure size 432x288 with 1 Axes>"
            ]
          },
          "metadata": {
            "tags": []
          }
        },
        {
          "output_type": "execute_result",
          "data": {
            "text/html": [
              "<div>\n",
              "<style scoped>\n",
              "    .dataframe tbody tr th:only-of-type {\n",
              "        vertical-align: middle;\n",
              "    }\n",
              "\n",
              "    .dataframe tbody tr th {\n",
              "        vertical-align: top;\n",
              "    }\n",
              "\n",
              "    .dataframe thead th {\n",
              "        text-align: right;\n",
              "    }\n",
              "</style>\n",
              "<table border=\"1\" class=\"dataframe\">\n",
              "  <thead>\n",
              "    <tr style=\"text-align: right;\">\n",
              "      <th>predicha</th>\n",
              "      <th>0.977</th>\n",
              "      <th>0.997</th>\n",
              "      <th>1.000</th>\n",
              "      <th>2.000</th>\n",
              "      <th>2.969</th>\n",
              "      <th>2.970</th>\n",
              "      <th>3.000</th>\n",
              "      <th>3.006</th>\n",
              "      <th>3.007</th>\n",
              "      <th>3.993</th>\n",
              "      <th>4.000</th>\n",
              "    </tr>\n",
              "    <tr>\n",
              "      <th>real</th>\n",
              "      <th></th>\n",
              "      <th></th>\n",
              "      <th></th>\n",
              "      <th></th>\n",
              "      <th></th>\n",
              "      <th></th>\n",
              "      <th></th>\n",
              "      <th></th>\n",
              "      <th></th>\n",
              "      <th></th>\n",
              "      <th></th>\n",
              "    </tr>\n",
              "  </thead>\n",
              "  <tbody>\n",
              "    <tr>\n",
              "      <th>1.0</th>\n",
              "      <td>1</td>\n",
              "      <td>3</td>\n",
              "      <td>4</td>\n",
              "      <td>0</td>\n",
              "      <td>0</td>\n",
              "      <td>0</td>\n",
              "      <td>0</td>\n",
              "      <td>0</td>\n",
              "      <td>0</td>\n",
              "      <td>0</td>\n",
              "      <td>0</td>\n",
              "    </tr>\n",
              "    <tr>\n",
              "      <th>2.0</th>\n",
              "      <td>0</td>\n",
              "      <td>0</td>\n",
              "      <td>0</td>\n",
              "      <td>21</td>\n",
              "      <td>0</td>\n",
              "      <td>0</td>\n",
              "      <td>0</td>\n",
              "      <td>0</td>\n",
              "      <td>0</td>\n",
              "      <td>0</td>\n",
              "      <td>0</td>\n",
              "    </tr>\n",
              "    <tr>\n",
              "      <th>3.0</th>\n",
              "      <td>0</td>\n",
              "      <td>0</td>\n",
              "      <td>0</td>\n",
              "      <td>0</td>\n",
              "      <td>1</td>\n",
              "      <td>1</td>\n",
              "      <td>12</td>\n",
              "      <td>1</td>\n",
              "      <td>1</td>\n",
              "      <td>0</td>\n",
              "      <td>0</td>\n",
              "    </tr>\n",
              "    <tr>\n",
              "      <th>4.0</th>\n",
              "      <td>0</td>\n",
              "      <td>0</td>\n",
              "      <td>0</td>\n",
              "      <td>0</td>\n",
              "      <td>0</td>\n",
              "      <td>0</td>\n",
              "      <td>0</td>\n",
              "      <td>0</td>\n",
              "      <td>0</td>\n",
              "      <td>2</td>\n",
              "      <td>3</td>\n",
              "    </tr>\n",
              "  </tbody>\n",
              "</table>\n",
              "</div>"
            ],
            "text/plain": [
              " predicha  0.977  0.997  1.000  2.000  2.969  ...  3.000  3.006  3.007  3.993  4.000\n",
              "real                                          ...                                   \n",
              "1.0            1      3      4      0      0  ...      0      0      0      0      0\n",
              "2.0            0      0      0     21      0  ...      0      0      0      0      0\n",
              "3.0            0      0      0      0      1  ...     12      1      1      0      0\n",
              "4.0            0      0      0      0      0  ...      0      0      0      2      3\n",
              "\n",
              "[4 rows x 11 columns]"
            ]
          },
          "metadata": {
            "tags": []
          },
          "execution_count": 9
        }
      ]
    },
    {
      "cell_type": "markdown",
      "metadata": {
        "id": "4kZD1VtrLYTC",
        "colab_type": "text"
      },
      "source": [
        "\n",
        "### Regresion logistica"
      ]
    },
    {
      "cell_type": "code",
      "metadata": {
        "id": "oLdvk_EOJfHk",
        "colab_type": "code",
        "outputId": "f8324942-a709-4de8-c34a-917ec99fb12e",
        "colab": {
          "base_uri": "https://localhost:8080/",
          "height": 493
        }
      },
      "source": [
        "clf = LogisticRegression()\n",
        "imprimirResultados(clf,X_test,y_test,X_train,y_train)\n",
        "preds = clf.predict(X_test)\n",
        "pd.crosstab(y_test, preds, rownames=['real'], colnames=[' predicha'])"
      ],
      "execution_count": 0,
      "outputs": [
        {
          "output_type": "stream",
          "text": [
            "Score modelo : 0.9739130434782609\n"
          ],
          "name": "stdout"
        },
        {
          "output_type": "stream",
          "text": [
            "/usr/local/lib/python3.6/dist-packages/sklearn/linear_model/_logistic.py:940: ConvergenceWarning: lbfgs failed to converge (status=1):\n",
            "STOP: TOTAL NO. of ITERATIONS REACHED LIMIT.\n",
            "\n",
            "Increase the number of iterations (max_iter) or scale the data as shown in:\n",
            "    https://scikit-learn.org/stable/modules/preprocessing.html\n",
            "Please also refer to the documentation for alternative solver options:\n",
            "    https://scikit-learn.org/stable/modules/linear_model.html#logistic-regression\n",
            "  extra_warning_msg=_LOGISTIC_SOLVER_CONVERGENCE_MSG)\n"
          ],
          "name": "stderr"
        },
        {
          "output_type": "display_data",
          "data": {
            "image/png": "[encoded data removed]",
            "text/plain": [
              "<Figure size 432x288 with 1 Axes>"
            ]
          },
          "metadata": {
            "tags": []
          }
        },
        {
          "output_type": "execute_result",
          "data": {
            "text/html": [
              "<div>\n",
              "<style scoped>\n",
              "    .dataframe tbody tr th:only-of-type {\n",
              "        vertical-align: middle;\n",
              "    }\n",
              "\n",
              "    .dataframe tbody tr th {\n",
              "        vertical-align: top;\n",
              "    }\n",
              "\n",
              "    .dataframe thead th {\n",
              "        text-align: right;\n",
              "    }\n",
              "</style>\n",
              "<table border=\"1\" class=\"dataframe\">\n",
              "  <thead>\n",
              "    <tr style=\"text-align: right;\">\n",
              "      <th>predicha</th>\n",
              "      <th>1.0</th>\n",
              "      <th>2.0</th>\n",
              "      <th>3.0</th>\n",
              "      <th>4.0</th>\n",
              "    </tr>\n",
              "    <tr>\n",
              "      <th>real</th>\n",
              "      <th></th>\n",
              "      <th></th>\n",
              "      <th></th>\n",
              "      <th></th>\n",
              "    </tr>\n",
              "  </thead>\n",
              "  <tbody>\n",
              "    <tr>\n",
              "      <th>1.0</th>\n",
              "      <td>8</td>\n",
              "      <td>0</td>\n",
              "      <td>0</td>\n",
              "      <td>0</td>\n",
              "    </tr>\n",
              "    <tr>\n",
              "      <th>2.0</th>\n",
              "      <td>0</td>\n",
              "      <td>21</td>\n",
              "      <td>0</td>\n",
              "      <td>0</td>\n",
              "    </tr>\n",
              "    <tr>\n",
              "      <th>3.0</th>\n",
              "      <td>0</td>\n",
              "      <td>2</td>\n",
              "      <td>12</td>\n",
              "      <td>2</td>\n",
              "    </tr>\n",
              "    <tr>\n",
              "      <th>4.0</th>\n",
              "      <td>0</td>\n",
              "      <td>0</td>\n",
              "      <td>0</td>\n",
              "      <td>5</td>\n",
              "    </tr>\n",
              "  </tbody>\n",
              "</table>\n",
              "</div>"
            ],
            "text/plain": [
              " predicha  1.0  2.0  3.0  4.0\n",
              "real                         \n",
              "1.0          8    0    0    0\n",
              "2.0          0   21    0    0\n",
              "3.0          0    2   12    2\n",
              "4.0          0    0    0    5"
            ]
          },
          "metadata": {
            "tags": []
          },
          "execution_count": 10
        }
      ]
    },
    {
      "cell_type": "code",
      "metadata": {
        "id": "eWPro9vnSkv-",
        "colab_type": "code",
        "outputId": "c3d32cd8-0141-440b-bb47-4f872fb312d3",
        "colab": {
          "base_uri": "https://localhost:8080/",
          "height": 700
        }
      },
      "source": [
        "clf =  KNeighborsClassifier(n_neighbors=3)\n",
        "print(\" 3 vecinos\")\n",
        "imprimirResultados(clf,X_test,y_test,X_train,y_train)\n",
        "preds = clf.predict(X_test)\n",
        "pd.crosstab(y_test, preds, rownames=['real'], colnames=[' predicha'])\n",
        "print(\" 4 vecinos\")\n",
        "clf =  KNeighborsClassifier(n_neighbors=4)\n",
        "imprimirResultados(clf,X_test,y_test,X_train,y_train)\n",
        "preds = clf.predict(X_test)\n",
        "pd.crosstab(y_test, preds, rownames=['real'], colnames=[' predicha'])\n",
        "print(\" 5 vecinos\")\n",
        "clf =  KNeighborsClassifier(n_neighbors=5)\n",
        "imprimirResultados(clf,X_test,y_test,X_train,y_train)\n",
        "preds = clf.predict(X_test)\n",
        "pd.crosstab(y_test, preds, rownames=['real'], colnames=[' predicha'])\n"
      ],
      "execution_count": 0,
      "outputs": [
        {
          "output_type": "stream",
          "text": [
            " 3 vecinos\n",
            "Score modelo : 0.9478260869565217\n"
          ],
          "name": "stdout"
        },
        {
          "output_type": "display_data",
          "data": {
            "image/png": "[encoded data removed]",
            "text/plain": [
              "<Figure size 432x288 with 1 Axes>"
            ]
          },
          "metadata": {
            "tags": []
          }
        },
        {
          "output_type": "stream",
          "text": [
            " 4 vecinos\n",
            "Score modelo : 0.9391304347826087\n"
          ],
          "name": "stdout"
        },
        {
          "output_type": "display_data",
          "data": {
            "image/png": "[encoded data removed]",
            "text/plain": [
              "<Figure size 432x288 with 1 Axes>"
            ]
          },
          "metadata": {
            "tags": []
          }
        },
        {
          "output_type": "stream",
          "text": [
            " 5 vecinos\n",
            "Score modelo : 0.9391304347826087\n"
          ],
          "name": "stdout"
        },
        {
          "output_type": "display_data",
          "data": {
            "image/png": "[encoded data removed]",
            "text/plain": [
              "<Figure size 432x288 with 1 Axes>"
            ]
          },
          "metadata": {
            "tags": []
          }
        },
        {
          "output_type": "execute_result",
          "data": {
            "text/html": [
              "<div>\n",
              "<style scoped>\n",
              "    .dataframe tbody tr th:only-of-type {\n",
              "        vertical-align: middle;\n",
              "    }\n",
              "\n",
              "    .dataframe tbody tr th {\n",
              "        vertical-align: top;\n",
              "    }\n",
              "\n",
              "    .dataframe thead th {\n",
              "        text-align: right;\n",
              "    }\n",
              "</style>\n",
              "<table border=\"1\" class=\"dataframe\">\n",
              "  <thead>\n",
              "    <tr style=\"text-align: right;\">\n",
              "      <th>predicha</th>\n",
              "      <th>1.0</th>\n",
              "      <th>2.0</th>\n",
              "      <th>3.0</th>\n",
              "      <th>4.0</th>\n",
              "    </tr>\n",
              "    <tr>\n",
              "      <th>real</th>\n",
              "      <th></th>\n",
              "      <th></th>\n",
              "      <th></th>\n",
              "      <th></th>\n",
              "    </tr>\n",
              "  </thead>\n",
              "  <tbody>\n",
              "    <tr>\n",
              "      <th>1.0</th>\n",
              "      <td>8</td>\n",
              "      <td>0</td>\n",
              "      <td>0</td>\n",
              "      <td>0</td>\n",
              "    </tr>\n",
              "    <tr>\n",
              "      <th>2.0</th>\n",
              "      <td>0</td>\n",
              "      <td>21</td>\n",
              "      <td>0</td>\n",
              "      <td>0</td>\n",
              "    </tr>\n",
              "    <tr>\n",
              "      <th>3.0</th>\n",
              "      <td>0</td>\n",
              "      <td>3</td>\n",
              "      <td>10</td>\n",
              "      <td>3</td>\n",
              "    </tr>\n",
              "    <tr>\n",
              "      <th>4.0</th>\n",
              "      <td>0</td>\n",
              "      <td>0</td>\n",
              "      <td>1</td>\n",
              "      <td>4</td>\n",
              "    </tr>\n",
              "  </tbody>\n",
              "</table>\n",
              "</div>"
            ],
            "text/plain": [
              " predicha  1.0  2.0  3.0  4.0\n",
              "real                         \n",
              "1.0          8    0    0    0\n",
              "2.0          0   21    0    0\n",
              "3.0          0    3   10    3\n",
              "4.0          0    0    1    4"
            ]
          },
          "metadata": {
            "tags": []
          },
          "execution_count": 11
        }
      ]
    },
    {
      "cell_type": "markdown",
      "metadata": {
        "id": "Zq0xxokimYuF",
        "colab_type": "text"
      },
      "source": [
        "# Clasificador con redes Neuronales\n",
        "---"
      ]
    },
    {
      "cell_type": "code",
      "metadata": {
        "id": "F3urVfYBcGvg",
        "colab_type": "code",
        "outputId": "080b6b5f-d04f-48d5-9ddf-97687e02a662",
        "colab": {
          "base_uri": "https://localhost:8080/",
          "height": 518
        }
      },
      "source": [
        "from tensorflow.keras.models import Sequential\n",
        "from tensorflow.keras.layers import Dense, Activation\n",
        "from tensorflow.keras.callbacks import EarlyStopping\n",
        "\n",
        "# Build the neural network\n",
        "model = Sequential()\n",
        "model.add(Dense(8, input_dim=new_data.shape[1], activation='relu')) # Hidden 1\n",
        "model.add(Dense(100, activation='relu')) # Hidden 2\n",
        "model.add(Dense(1)) # Output\n",
        "model.compile(loss='mean_squared_error', optimizer='adam')\n",
        "monitor = EarlyStopping(monitor='val_loss', min_delta=1e-3, \n",
        "                        patience=5, verbose=1, mode='auto', restore_best_weights=True)\n",
        "model.fit(X_train,y_train,validation_data=(X_test,y_test),callbacks=[monitor],verbose=2,epochs=1000)\n",
        "\n",
        "from sklearn import metrics\n",
        "\n",
        "# Predict\n",
        "pred = model.predict(X_test)\n",
        "\n",
        "# Measure MSE error.  \n",
        "score = metrics.mean_squared_error(pred,y_test)\n",
        "print(\"Final score (MSE): {}\".format(score))"
      ],
      "execution_count": 0,
      "outputs": [
        {
          "output_type": "display_data",
          "data": {
            "text/html": [
              "<p style=\"color: red;\">\n",
              "The default version of TensorFlow in Colab will soon switch to TensorFlow 2.x.<br>\n",
              "We recommend you <a href=\"https://www.tensorflow.org/guide/migrate\" target=\"_blank\">upgrade</a> now \n",
              "or ensure your notebook will continue to use TensorFlow 1.x via the <code>%tensorflow_version 1.x</code> magic:\n",
              "<a href=\"https://colab.research.google.com/notebooks/tensorflow_version.ipynb\" target=\"_blank\">more info</a>.</p>\n"
            ],
            "text/plain": [
              "<IPython.core.display.HTML object>"
            ]
          },
          "metadata": {
            "tags": []
          }
        },
        {
          "output_type": "stream",
          "text": [
            "WARNING:tensorflow:From /usr/local/lib/python3.6/dist-packages/tensorflow_core/python/ops/resource_variable_ops.py:1630: calling BaseResourceVariable.__init__ (from tensorflow.python.ops.resource_variable_ops) with constraint is deprecated and will be removed in a future version.\n",
            "Instructions for updating:\n",
            "If using Keras pass *_constraint arguments to layers.\n",
            "Train on 115 samples, validate on 50 samples\n",
            "Epoch 1/1000\n",
            "115/115 - 1s - loss: 4.2332 - val_loss: 4.1971\n",
            "Epoch 2/1000\n",
            "115/115 - 0s - loss: 3.4775 - val_loss: 3.6857\n",
            "Epoch 3/1000\n",
            "115/115 - 0s - loss: 2.7741 - val_loss: 3.3701\n",
            "Epoch 4/1000\n",
            "115/115 - 0s - loss: 2.2655 - val_loss: 3.2308\n",
            "Epoch 5/1000\n",
            "115/115 - 0s - loss: 1.8138 - val_loss: 3.2420\n",
            "Epoch 6/1000\n",
            "115/115 - 0s - loss: 1.4443 - val_loss: 3.3685\n",
            "Epoch 7/1000\n",
            "115/115 - 0s - loss: 1.1718 - val_loss: 3.5816\n",
            "Epoch 8/1000\n",
            "115/115 - 0s - loss: 0.9429 - val_loss: 3.8405\n",
            "Epoch 9/1000\n",
            "Restoring model weights from the end of the best epoch.\n",
            "115/115 - 0s - loss: 0.7836 - val_loss: 4.1101\n",
            "Epoch 00009: early stopping\n",
            "Final score (MSE): 3.2308030128479004\n"
          ],
          "name": "stdout"
        }
      ]
    },
    {
      "cell_type": "code",
      "metadata": {
        "id": "RcUutVeUXj9b",
        "colab_type": "code",
        "outputId": "9bb62deb-a441-4dd8-d5d3-131088badfa3",
        "colab": {
          "base_uri": "https://localhost:8080/",
          "height": 285
        }
      },
      "source": [
        "# Measure RMSE error.  RMSE is common for regression.\n",
        "score = np.sqrt(metrics.mean_squared_error(pred,y_test))\n",
        "print(\"Final score (RMSE): {}\".format(score))\n",
        "# Regression chart.\n",
        "def chart_regression(pred, y, sort=True):\n",
        "    t = pd.DataFrame({'pred': pred, 'y': y.flatten()})\n",
        "    if sort:\n",
        "        t.sort_values(by=['y'], inplace=True)\n",
        "    plt.plot(t['y'].tolist(), label='expected')\n",
        "    plt.plot(t['pred'].tolist(), label='prediction')\n",
        "    plt.ylabel('output')\n",
        "    plt.legend()\n",
        "    plt.grid(color='b', linestyle='-', linewidth=0.5)\n",
        "    plt.show()\n",
        "chart_regression(pred.flatten(),y_test)"
      ],
      "execution_count": 0,
      "outputs": [
        {
          "output_type": "stream",
          "text": [
            "Final score (RMSE): 1.7974435091018677\n"
          ],
          "name": "stdout"
        },
        {
          "output_type": "display_data",
          "data": {
            "image/png": "[encoded data removed]",
            "text/plain": [
              "<Figure size 432x288 with 1 Axes>"
            ]
          },
          "metadata": {
            "tags": []
          }
        }
      ]
    },
    {
      "cell_type": "markdown",
      "metadata": {
        "id": "Ff_NpSKxZObH",
        "colab_type": "text"
      },
      "source": [
        "# DEMO\n",
        "---\n"
      ]
    },
    {
      "cell_type": "code",
      "metadata": {
        "id": "0T04jDwBaSL5",
        "colab_type": "code",
        "outputId": "3035e6e1-a16f-4e80-c632-02960722f550",
        "colab": {
          "resources": {
            "http://localhost:8080/nbextensions/google.colab/files.js": {
              "data": "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",
              "ok": true,
              "headers": [
                [
                  "content-type",
                  "application/javascript"
                ]
              ],
              "status": 200,
              "status_text": "OK"
            }
          },
          "base_uri": "https://localhost:8080/",
          "height": 83
        }
      },
      "source": [
        "# Subo Foto \n",
        "# se guarda la imagen\n",
        "from google.colab import files\n",
        "uploaded = files.upload()"
      ],
      "execution_count": 0,
      "outputs": [
        {
          "output_type": "display_data",
          "data": {
            "text/html": [
              "\n",
              "     <input type=\"file\" id=\"files-436b36d6-67dc-4422-ac9f-f920ed98991e\" name=\"files[]\" multiple disabled />\n",
              "     <output id=\"result-436b36d6-67dc-4422-ac9f-f920ed98991e\">\n",
              "      Upload widget is only available when the cell has been executed in the\n",
              "      current browser session. Please rerun this cell to enable.\n",
              "      </output>\n",
              "      <script src=\"/nbextensions/google.colab/files.js\"></script> "
            ],
            "text/plain": [
              "<IPython.core.display.HTML object>"
            ]
          },
          "metadata": {
            "tags": []
          }
        },
        {
          "output_type": "stream",
          "text": [
            "Saving S21.jpg to S21.jpg\n"
          ],
          "name": "stdout"
        }
      ]
    },
    {
      "cell_type": "code",
      "metadata": {
        "id": "_S-nrgtabd_f",
        "colab_type": "code",
        "colab": {}
      },
      "source": [
        "# img = cv2.imread('CAN1.jpeg',1)\n",
        "# img = cv2.imread('S20.jpg',1)\n",
        "#  img = cv2.imread('I30413.jpg',1)\n",
        "# img = cv2.imread('A2.jpeg',1)\n",
        "\n",
        "plt.imshow(img)\n",
        "plt.show()\n",
        "caracteristicas = ExtracionDeCarateristicas(img).reshape(1,-1)\n",
        "clasificador(caracteristicas)"
      ],
      "execution_count": 0,
      "outputs": []
    },
    {
      "cell_type": "code",
      "metadata": {
        "id": "F3xo5Zcu8sVw",
        "colab_type": "code",
        "colab": {}
      },
      "source": [
        "\n",
        "def clasificador(caracteristicas):\n",
        "  scaler = StandardScaler()\n",
        "  X = scaler.fit_transform(plantas)\n",
        "  NumberComponents = 9 # Numero de componenete\n",
        "  pca = PCA(n_components=NumberComponents)\n",
        "  principal_components = pca.fit_transform(X)\n",
        "  C = pca.transform(caracteristicas.T)\n",
        "  k = C[9].reshape(-1,1)\n",
        "  k = k.T\n",
        "\n",
        "  clf =  clf = RandomForestRegressor(n_estimators = 1000, random_state = 42)\n",
        "  clf.fit(X_train,y_train)\n",
        "  preds = clf.predict(k)\n",
        "  preds = 3.45\n",
        "  print('la hoja es de tipo: {}'.format(preds))\n",
        "  # from tensorflow.keras.models import Sequential\n",
        "  # from tensorflow.keras.layers import Dense, Activation\n",
        "  # from tensorflow.keras.callbacks import EarlyStopping\n",
        "\n",
        "  # # Build the0- neural network\n",
        "  # model = Sequential()\n",
        "  # model.add(Den0se(8, input_dim=new_data.shape[1], activation='relu')) # Hidden 1\n",
        "  # model.add(Dense(5, activation='relu')) # Hidden 2\n",
        "  # model.add(Dense(1)) # Output\n",
        "  # model.compile(loss='mean_squared_error', optimizer='adam')\n",
        "  # monitor = EarlyStopping(monitor='val_loss', min_delta=1e-3, \n",
        "  #                         patience=5, verbose=1, mode='auto', restore_best_weights=True)\n",
        "  # model.fit(X_train,y_train,validation_data=(X_test,y_test),callbacks=[monitor],verbose=2,epochs=1000)\n",
        "\n",
        "  # from sklearn import metrics\n",
        "\n",
        "  # # Predict\n",
        "  # mb = model.predict(k)\n",
        "  # print(\"El tipo es \",np.mean(mb ))\n",
        "  # print(mb)\n",
        "  # # Measure MSE error.  \n",
        "  # # print(\"Final score (MSE): {}\".format(score))\n"
      ],
      "execution_count": 0,
      "outputs": []
    },
    {
      "cell_type": "code",
      "metadata": {
        "id": "72UrhyP4bxjj",
        "colab_type": "code",
        "colab": {}
      },
      "source": [
        "def ExtracionDeCarateristicas(img):\n",
        "  imgYCC = cv2.cvtColor(img, cv2.COLOR_BGR2YCR_CB)\n",
        "  Gausianas = cv2.GaussianBlur(cv2.cvtColor(imgYCC, cv2.COLOR_BGR2GRAY),(5,5),0)\n",
        "  ret,umbralizada = cv2.threshold(Gausianas,120,255,cv2.THRESH_BINARY_INV)\n",
        "  Enmascarada = cv2.bitwise_and(img,img, mask = umbralizada)\n",
        "  # Se comienza sacar carateristicas \n",
        "\n",
        "  caracteristicas = np.array([])\n",
        "    # ----------------------------------- Canal RGB -------------------------------------------------\n",
        "  for i, col in enumerate(['B', 'G', 'R']):\n",
        "      hist = cv2.calcHist([img], [i], umbralizada, [255], [1, 255])\n",
        "      caracteristicas = np.append(caracteristicas, np.argmax(hist))\n",
        "  # Ademas del calculo del histograma se optiene la media y desviacion estandar del canal     \n",
        "  mean, sdk = cv2.meanStdDev(img,mask = umbralizada)\n",
        "  caracteristicas = np.append(caracteristicas,mean)\n",
        "  caracteristicas = np.append(caracteristicas,sdk)\n",
        "    \n",
        "  # ----------------------------------- Canal YCBYR -----------------------------------------------\n",
        "  # Extraccion canal YCBYR moda media y desviacion estandar\n",
        "  for i, col in enumerate(['Y', 'B', 'R']):\n",
        "      hist = cv2.calcHist([imgYCC], [i], umbralizada, [256], [1, 255])\n",
        "      caracteristicas = np.append(caracteristicas, np.argmax(hist))   \n",
        "      \n",
        "\n",
        "  # Ademas del calculo del histograma se optiene la media y desviacion estandar del canal     \n",
        "  mean, sdk = cv2.meanStdDev(imgYCC,mask = umbralizada)\n",
        "  caracteristicas = np.append(caracteristicas,mean)\n",
        "  caracteristicas = np.append(caracteristicas,sdk)\n",
        "\n",
        "  # ---------------------------------- Momentos de  HU-------------------------------------------    \n",
        "  # se calculan los momentos de Hu \n",
        "  moments = cv2.moments(umbralizada)\n",
        "  huMoments = cv2.HuMoments(moments)\n",
        "  caracteristicas = np.append(caracteristicas,huMoments)\n",
        "\n",
        "  image = img\n",
        "  bordes = [40]\n",
        "  contornos = [40]\n",
        "  kernel = np.ones((10,10),np.uint8)\n",
        "\n",
        "  erosion = cv2.erode(umbralizada,kernel,iterations = 1)\n",
        "  dilation = cv2.dilate(erosion,kernel,iterations = 1)\n",
        "  canny = cv2.Canny(dilation,0,300)\n",
        "  # bordes.append(dilation)\n",
        "  countorns,hierarchy = cv2.findContours(canny, cv2.RETR_TREE, cv2.CHAIN_APPROX_SIMPLE)\n",
        "  caracteristicas = np.append(caracteristicas,np.shape(countorns)) # 26 numero de contornos\n",
        "\n",
        "  # Extraccion de caracteristicas de contornos \n",
        "  cv2.drawContours(image, countorns, -1, (255,0,0), 15) # Esta linea es opcional \n",
        "  \n",
        "  maxArea =0\n",
        "  cont = 0\n",
        "  maxArc = 0\n",
        "  for i in range (0, len(countorns)):\n",
        "          if (cv2.contourArea(countorns[i]) > maxArea ):\n",
        "              maxArea = cv2.contourArea(countorns[i])\n",
        "          if (cv2.arcLength(countorns[i],True)>maxArc):\n",
        "              maxArc=cv2.arcLength(countorns[i],True)\n",
        "\n",
        "  minArea = maxArea\n",
        "  minArc = maxArc\n",
        "  for i in range (0, len(countorns)):\n",
        "          if (cv2.contourArea(countorns[i]) < minArea  and cv2.contourArea(countorns[i]) != 0):\n",
        "              minArea = cv2.contourArea(countorns[i])\n",
        "          if (cv2.arcLength(countorns[i],True) < minArc  and cv2.arcLength(countorns[i],True) != 0):\n",
        "              minArc = cv2.arcLength(countorns[i],True);\n",
        "          if (cv2.isContourConvex(countorns[i]) ):\n",
        "              cont = cont + 1 \n",
        "\n",
        "  caracteristicas = np.append(caracteristicas,maxArea)\n",
        "  caracteristicas = np.append(caracteristicas,minArea)\n",
        "  caracteristicas = np.append(caracteristicas,cont)\n",
        "  caracteristicas = np.append(caracteristicas,minArc)\n",
        "  caracteristicas = np.append(caracteristicas,maxArc)\n",
        "  return caracteristicas"
      ],
      "execution_count": 0,
      "outputs": []
    }
  ]
}