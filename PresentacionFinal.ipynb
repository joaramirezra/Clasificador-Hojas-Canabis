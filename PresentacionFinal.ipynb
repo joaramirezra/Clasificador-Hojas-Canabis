{
  "nbformat": 4,
  "nbformat_minor": 0,
  "metadata": {
    "colab": {
      "name": "PresentacionFinal.ipynb",
      "provenance": [],
      "authorship_tag": "ABX9TyMvuFFlzg8AKfbQWWuTR9lQ",
      "include_colab_link": true
    },
    "kernelspec": {
      "name": "python3",
      "display_name": "Python 3"
    }
  },
  "cells": [
    {
      "cell_type": "markdown",
      "metadata": {
        "id": "view-in-github",
        "colab_type": "text"
      },
      "source": [
        "<a href=\"https://colab.research.google.com/github/joaramirezra/ClasificadorHojasCanabis/blob/master/PresentacionFinal.ipynb\" target=\"_parent\"><img src=\"https://colab.research.google.com/assets/colab-badge.svg\" alt=\"Open In Colab\"/></a>"
      ]
    },
    {
      "cell_type": "markdown",
      "metadata": {
        "id": "6kqcBRVyitSD",
        "colab_type": "text"
      },
      "source": [
        "# Deteccion de anomalias en hojas de canabis \n",
        "### Febrero 2020\n",
        "**Autores:**\n",
        "- Johan Ramirez \n",
        "- Adriana Rivera"
      ]
    },
    {
      "cell_type": "code",
      "metadata": {
        "id": "nV9aPIhoiaPM",
        "colab_type": "code",
        "colab": {}
      },
      "source": [
        "# Importacion de librerias\n",
        "import cv2                                                \n",
        "import numpy as np\n",
        "import pandas as pd\n",
        "from matplotlib import pyplot as plt\n",
        "from sklearn.decomposition import PCA\n",
        "from IPython.display import Image\n",
        "from sklearn.model_selection import train_test_split\n",
        "from sklearn.neighbors import KNeighborsClassifier\n",
        "from sklearn.preprocessing import StandardScaler\n",
        "from sklearn.model_selection import train_test_split\n",
        "from sklearn.neighbors import KNeighborsClassifier\n"
      ],
      "execution_count": 0,
      "outputs": []
    }
  ]
}