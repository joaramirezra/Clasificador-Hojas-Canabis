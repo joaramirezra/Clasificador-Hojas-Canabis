{
  "nbformat": 4,
  "nbformat_minor": 0,
  "metadata": {
    "colab": {
      "name": "Version2_Clasificador.ipynb",
      "provenance": [],
      "authorship_tag": "ABX9TyOK77nDTe8oUB4bklzEokDd",
      "include_colab_link": true
    },
    "kernelspec": {
      "name": "python3",
      "display_name": "Python 3"
    }
  },
  "cells": [
    {
      "cell_type": "markdown",
      "metadata": {
        "id": "view-in-github",
        "colab_type": "text"
      },
      "source": [
        "<a href=\"https://colab.research.google.com/github/joaramirezra/Clasificador-Hojas-Canabis/blob/Version2/Version2_Clasificador.ipynb\" target=\"_parent\"><img src=\"https://colab.research.google.com/assets/colab-badge.svg\" alt=\"Open In Colab\"/></a>"
      ]
    },
    {
      "cell_type": "markdown",
      "metadata": {
        "id": "sx89mgowzMNQ"
      },
      "source": [
        "# deteccion y clasificacion de anomalias en hojas de cannabis\n",
        "---\n",
        "\n",
        "#### version 2.0\n",
        "\n",
        "El presente repositorio cuenta con informacion necesaria para poder crear un clasificador de hojas de cannabis basados en las caracteristicas tomadas desde un set de imagenes, por lo cual se usa procede a usar las siguientes librerias\n"
      ]
    },
    {
      "cell_type": "code",
      "metadata": {
        "cellView": "form",
        "id": "lsV6Pq7h0XI6"
      },
      "source": [
        "#@markdown Librerias\n",
        "\n",
        "#@markdown - numpy \n",
        "#@markdown - tensoflow \n",
        "#@markdown - cv2\n",
        "#@markdown - pandas \n",
        "\n",
        "import numpy as np\n",
        "import cv2\n",
        "import pandas as pd\n",
        "import tensorflow as tf"
      ],
      "execution_count": 2,
      "outputs": []
    },
    {
      "cell_type": "code",
      "metadata": {
        "cellView": "form",
        "id": "wqzlJOnD02nJ"
      },
      "source": [
        "#@markdown Funciones a usar\n",
        "\n",
        "#@markdown - imprimir_imagenes(*imagenes)\n",
        "#@markdown - preproceso(imagen) : \n",
        "#@markdown - enmasramiento(imagen) \n",
        "#@markdown - extracion_de_caracteristicas(imagen) \n",
        "#@markdown - Creacion_dataframe(images)"
      ],
      "execution_count": 3,
      "outputs": []
    }
  ]
}